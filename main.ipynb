{
  "nbformat": 4,
  "nbformat_minor": 0,
  "metadata": {
    "colab": {
      "provenance": [],
      "authorship_tag": "ABX9TyNJgS9kDDleieo7vAOkfgv9",
      "include_colab_link": true
    },
    "kernelspec": {
      "name": "python3",
      "display_name": "Python 3"
    },
    "language_info": {
      "name": "python"
    }
  },
  "cells": [
    {
      "cell_type": "markdown",
      "metadata": {
        "id": "view-in-github",
        "colab_type": "text"
      },
      "source": [
        "<a href=\"https://colab.research.google.com/github/sarmiSiva/PythonAvantrio/blob/main/main.ipynb\" target=\"_parent\"><img src=\"https://colab.research.google.com/assets/colab-badge.svg\" alt=\"Open In Colab\"/></a>"
      ]
    },
    {
      "cell_type": "markdown",
      "source": [
        "Required Fields: user_id, email, timestamp, items."
      ],
      "metadata": {
        "id": "onaGzBry590S"
      }
    },
    {
      "cell_type": "code",
      "source": [
        "data =\n",
        " [\n",
        "{\n",
        "  \"user_id\": \"abc123\",\n",
        "  \"email\": \"user1@example.com\",\n",
        "  \"timestamp\": \"2024-09-03T12:30:00Z\",\n",
        "  \"items\": [\n",
        "    {\"item_id\": \"item001\", \"quantity\": 3, \"price\": 9.99},\n",
        "    {\"item_id\": \"item002\", \"quantity\": 1, \"price\": 19.99}\n",
        "  ]\n",
        "},\n",
        "{\n",
        "  \"user_id\": \"xyz789\",\n",
        "  \"email\": \"user2@invalid-email\",  // Invalid email\n",
        "  \"timestamp\": \"2024-09-03T15:45:00Z\",\n",
        "  \"items\": []\n",
        "},\n",
        "{\n",
        "  \"user_id\": \"\",\n",
        "  \"email\": \"user3@example.com\",\n",
        "  \"timestamp\": \"invalid-timestamp\", // Invalid timestamp\n",
        "  \"items\": [\n",
        "    {\"item_id\": \"item003\", \"quantity\": 2, \"price\": -5.99} // Invalid price\n",
        "  ]\n",
        "}\n",
        "]"
      ],
      "metadata": {
        "id": "zirmxiEoA6uM"
      },
      "execution_count": null,
      "outputs": []
    },
    {
      "cell_type": "code",
      "source": [
        "# import py"
      ],
      "metadata": {
        "id": "kRUAIuRPCBVG"
      },
      "execution_count": null,
      "outputs": []
    },
    {
      "cell_type": "code",
      "execution_count": null,
      "metadata": {
        "id": "xtA2t9oj4inH"
      },
      "outputs": [],
      "source": [
        "import jwt\n",
        "import datetime\n",
        "import json\n",
        "import pydanic\n",
        "\n",
        "# user_id, email, timestamp, items.\n",
        "def genratetoken(user_id):\n",
        "    payload = {\n",
        "        'user_id': user_id,\n",
        "        'exp': datetime.datetime.utcnow() + datetime.timedelta(days=1)\n",
        "    }\n",
        "# genratetoken(user_id)"
      ]
    },
    {
      "cell_type": "code",
      "source": [
        "# Data Validation Requirements\n",
        "def validateEmail(email):\n",
        "  # email\n",
        "  # emailFormat = \"\"\n",
        "    if '@' in email:\n",
        "        return True\n",
        "    else:\n",
        "        return False\n",
        "def validateUserid(userid):\n",
        "  if userid.string != ' ' :\n",
        "    return True\n",
        "  else:\n",
        "    return False\n",
        "def validatetimestamp(timestamp):\n",
        "    if timestamp != ' ':\n",
        "      return True\n",
        "    else:\n",
        "      return False\n",
        "\n",
        "def validateitems(items):\n",
        "    if items != ' ':\n",
        "      return True\n",
        "    else:\n",
        "      return False\n",
        "def validateItem(Items):\n",
        "  items_err =[]\n",
        "\n",
        "\n"
      ],
      "metadata": {
        "id": "KeAIgxsC77lq"
      },
      "execution_count": 1,
      "outputs": []
    }
  ]
}